{
 "cells": [
  {
   "cell_type": "markdown",
   "metadata": {},
   "source": [
    "# Picture Puzzle"
   ]
  },
  {
   "cell_type": "code",
   "execution_count": 38,
   "metadata": {
    "collapsed": false
   },
   "outputs": [],
   "source": [
    "from os import listdir\n",
    "from string import digits"
   ]
  },
  {
   "cell_type": "code",
   "execution_count": 52,
   "metadata": {
    "collapsed": false
   },
   "outputs": [
    {
     "name": "stdout",
     "output_type": "stream",
     "text": [
      "['.DS_Store', 'athens.jpg', 'austin.jpg', 'bangalore.jpg', 'barcelona.jpg', 'beijing.jpg', 'berkeley.jpg', 'bogota.jpg', 'bristol.jpg', 'bucharest.jpg', 'buenos aires.jpg', 'cairo.jpg', 'chennai.jpg', 'chicago.jpg', 'colombo.jpg', 'dallas.jpg', 'delhi.jpg', 'edinbrugh.jpg', 'gainesville.jpg', 'houston.jpg', 'hyderabad.jpg', 'istanbul.jpg', 'ithaca.jpg', 'jacksonville.jpg', 'karachi.jpg', 'kiev.jpg', 'london.jpg', 'los angeles.jpg', 'madrid.jpg', 'manchester.jpg', 'miami.jpg', 'new york.jpg', 'oakland.jpg', 'pune.jpg', 'rochester.jpg', 'san diego.jpg', 'san jose.jpg', 'sao paulo.jpg', 'seattle.jpg', 'seoul.jpg', 'shanghai.jpg', 'singapore.jpg', 'sunnyvale.jpg', 'sydney.jpg', 'tel aviv.jpg']\n"
     ]
    }
   ],
   "source": [
    "def rename_files():\n",
    "    path = r\"C:\\Users\\Admin\\UdacityProjects\\pythonCourse\\prank\"\n",
    "    list = listdir(path)\n",
    "    \n",
    "    ##Directory is changed so that in os.rename function, the proper file path is being referenced.\n",
    "    os.chdir(path)\n",
    "    for entry in list:\n",
    "        remove_digits = str.maketrans('', '', digits)\n",
    "        new_name=entry.translate(remove_digits)\n",
    "        os.rename(entry,new_name)\n",
    "    print(list)\n",
    "rename_files()"
   ]
  },
  {
   "cell_type": "markdown",
   "metadata": {},
   "source": [
    "# Movie Project"
   ]
  },
  {
   "cell_type": "code",
   "execution_count": 1,
   "metadata": {
    "collapsed": false
   },
   "outputs": [],
   "source": [
    "\n",
    "import turtle\n",
    "\n",
    "def draw_square():\n",
    "\n",
    "    brad = turtle.Turtle()\n",
    "    brad.shape(\"turtle\")\n",
    "    brad.color(\"yellow\")\n",
    "    brad.speed(2)\n",
    "\n",
    "    brad.forward(100)\n",
    "    brad.right(90)\n",
    "    brad.forward(100)\n",
    "    brad.right(90)\n",
    "    brad.forward(100)\n",
    "    brad.right(90)\n",
    "    brad.forward(100)\n",
    "    brad.right(90)\n",
    "\n",
    "def draw_circle():\n",
    "\n",
    "    angie = turtle.Turtle()\n",
    "    angie.shape(\"arrow\")\n",
    "    angie.color(\"blue\")\n",
    "    angie.circle(100)\n",
    "\n",
    "def draw_triangle():\n",
    "\n",
    "    paul = turtle.Turtle()\n",
    "    paul.shape(\"turtle\")\n",
    "    paul.color(\"green\")\n",
    "    paul.circle(50)\n",
    "\n",
    "def draw_art():\n",
    "    window = turtle.Screen()\n",
    "    window.bgcolor(\"red\")\n",
    "    draw_square()\n",
    "    draw_circle()\n",
    "    draw_triangle()\n",
    "\n"
   ]
  },
  {
   "cell_type": "code",
   "execution_count": 2,
   "metadata": {
    "collapsed": false
   },
   "outputs": [],
   "source": [
    "draw_art()"
   ]
  },
  {
   "cell_type": "markdown",
   "metadata": {
    "collapsed": true
   },
   "source": [
    "## Rotating Turtle"
   ]
  },
  {
   "cell_type": "code",
   "execution_count": 1,
   "metadata": {
    "collapsed": false
   },
   "outputs": [],
   "source": [
    "import turtle\n",
    "\n",
    "def rotate_turtle():\n",
    "    \n",
    "    window = turtle.Screen()\n",
    "    window.bgcolor(\"red\")\n",
    "    \n",
    "    fred = turtle.Turtle()\n",
    "    fred.speed(10)\n",
    "    fred.shape(\"turtle\")\n",
    "    \n",
    "    for i in range (1,37):\n",
    "        for i in range (1,5):\n",
    "            fred.forward(100)\n",
    "            fred.right(90)\n",
    "        fred.right(10)\n",
    "        \n",
    "    window.exitonclick()\n",
    "rotate_turtle()"
   ]
  },
  {
   "cell_type": "markdown",
   "metadata": {},
   "source": [
    "# Text Message Project"
   ]
  },
  {
   "cell_type": "code",
   "execution_count": 9,
   "metadata": {
    "collapsed": false
   },
   "outputs": [],
   "source": [
    "from twilio.rest import TwilioRestClient\n",
    "\n",
    "# Find these values at https://twilio.com/user/account\n",
    "account_sid = \"AC35d5e9a39cba4260b4021e69db97945c\"\n",
    "auth_token = \"dcc9b3abcd4e901fe5751eac345aced2\"\n",
    "client = TwilioRestClient(account_sid, auth_token)\n",
    "\n",
    "message = client.messages.create(to=\"+8201031827385\", from_=\"+16502651722\",\n",
    "                                     body=\"Its Taylor, Im practicing python with twilio library... is this working? 한글도 되나...?\")"
   ]
  },
  {
   "cell_type": "markdown",
   "metadata": {},
   "source": [
    "# Profanity Filter Project"
   ]
  },
  {
   "cell_type": "markdown",
   "metadata": {},
   "source": [
    "### __Steps to take__\n",
    "\n",
    "1. Read Text \n",
    "2. identify curse word\n",
    "3. inform user of curse word"
   ]
  },
  {
   "cell_type": "code",
   "execution_count": 15,
   "metadata": {
    "collapsed": false
   },
   "outputs": [
    {
     "name": "stdout",
     "output_type": "stream",
     "text": [
      "-- Houston, we have a problem. (Apollo 13)\n",
      "\n",
      "-- Mama always said, life is like a box of chocolates. You never know what you are going to get. (Forrest Gump)\n",
      "\n",
      "-- You cant handle the truth. (A Few Good Men)\n",
      "\n",
      "-- I believe everything and I believe nothing. (A Shot in the Dark)\n"
     ]
    }
   ],
   "source": [
    "##profanity website wdyl.com no longer exists, so practice urllib.request.urlopen with anothe rwebsite for verification\n",
    "\n",
    "import urllib.request\n",
    "\n",
    "def read_text():\n",
    "    \n",
    "    quotes = open(r\"C:\\Users\\Admin\\UdacityProjects\\pythonCourse\\movie_quotes.txt\")\n",
    "    contents = quotes.read()\n",
    "    print(contents)\n",
    "    quotes.close()\n",
    "    check_profanity(contents)\n",
    "\n",
    "\n",
    "def check_profanity(text_to_check):\n",
    "    connection = urllib.request.urlopen(\"https://www.google.co.kr/?gfe_rd=cr&ei=1neaWKGKBYqL8QfTkpWQDQ&gws_rd=ssl#q=\"+text_to_check)\n",
    "    output = connection.read()\n",
    "    #print(output)\n",
    "    connection.close()\n",
    "\n",
    "read_text()"
   ]
  },
  {
   "cell_type": "markdown",
   "metadata": {},
   "source": [
    "# Making Movie Class\n"
   ]
  },
  {
   "cell_type": "code",
   "execution_count": 17,
   "metadata": {
    "collapsed": false
   },
   "outputs": [],
   "source": [
    "class Movie(object):\n",
    "    \n",
    "    def __init__(self, movie_title, movie_storyline, poster_image, trailer_youtube):\n",
    "        self.title = movie_title\n",
    "        self.storyline = movie_storyline\n",
    "        self.poster_image_url = poster_image\n",
    "        self.trailer_youtube_url = trailer_youtube\n",
    "    \n",
    "    "
   ]
  },
  {
   "cell_type": "code",
   "execution_count": 19,
   "metadata": {
    "collapsed": false
   },
   "outputs": [],
   "source": [
    "toy_story=Movie(\"Toy Story\",\n",
    "                     \"A story of a boy and his toys that come to life\",\n",
    "                     \"http://www.rotoscopers.com/wp-content/uploads/2013/10/Toy-Story-Poster.jpg\",\n",
    "                     \"https://www.youtube.com/watch?v=KYz2wyBy3kc\")"
   ]
  },
  {
   "cell_type": "code",
   "execution_count": 20,
   "metadata": {
    "collapsed": false
   },
   "outputs": [
    {
     "name": "stdout",
     "output_type": "stream",
     "text": [
      "Toy Story\n"
     ]
    }
   ],
   "source": [
    "print(toy_story.title)"
   ]
  },
  {
   "cell_type": "code",
   "execution_count": null,
   "metadata": {
    "collapsed": true
   },
   "outputs": [],
   "source": []
  }
 ],
 "metadata": {
  "anaconda-cloud": {},
  "kernelspec": {
   "display_name": "Python [default]",
   "language": "python",
   "name": "python3"
  },
  "language_info": {
   "codemirror_mode": {
    "name": "ipython",
    "version": 3
   },
   "file_extension": ".py",
   "mimetype": "text/x-python",
   "name": "python",
   "nbconvert_exporter": "python",
   "pygments_lexer": "ipython3",
   "version": "3.5.2"
  }
 },
 "nbformat": 4,
 "nbformat_minor": 1
}
