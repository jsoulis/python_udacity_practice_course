{
 "cells": [
  {
   "cell_type": "markdown",
   "metadata": {},
   "source": [
    "# Picture Puzzle"
   ]
  },
  {
   "cell_type": "code",
   "execution_count": 38,
   "metadata": {
    "collapsed": false
   },
   "outputs": [],
   "source": [
    "from os import listdir\n",
    "from string import digits"
   ]
  },
  {
   "cell_type": "code",
   "execution_count": 52,
   "metadata": {
    "collapsed": false
   },
   "outputs": [
    {
     "name": "stdout",
     "output_type": "stream",
     "text": [
      "['.DS_Store', 'athens.jpg', 'austin.jpg', 'bangalore.jpg', 'barcelona.jpg', 'beijing.jpg', 'berkeley.jpg', 'bogota.jpg', 'bristol.jpg', 'bucharest.jpg', 'buenos aires.jpg', 'cairo.jpg', 'chennai.jpg', 'chicago.jpg', 'colombo.jpg', 'dallas.jpg', 'delhi.jpg', 'edinbrugh.jpg', 'gainesville.jpg', 'houston.jpg', 'hyderabad.jpg', 'istanbul.jpg', 'ithaca.jpg', 'jacksonville.jpg', 'karachi.jpg', 'kiev.jpg', 'london.jpg', 'los angeles.jpg', 'madrid.jpg', 'manchester.jpg', 'miami.jpg', 'new york.jpg', 'oakland.jpg', 'pune.jpg', 'rochester.jpg', 'san diego.jpg', 'san jose.jpg', 'sao paulo.jpg', 'seattle.jpg', 'seoul.jpg', 'shanghai.jpg', 'singapore.jpg', 'sunnyvale.jpg', 'sydney.jpg', 'tel aviv.jpg']\n"
     ]
    }
   ],
   "source": [
    "def rename_files():\n",
    "    path = r\"C:\\Users\\Admin\\UdacityProjects\\pythonCourse\\prank\"\n",
    "    list = listdir(path)\n",
    "    \n",
    "    ##Directory is changed so that in os.rename function, the proper file path is being referenced.\n",
    "    os.chdir(path)\n",
    "    for entry in list:\n",
    "        remove_digits = str.maketrans('', '', digits)\n",
    "        new_name=entry.translate(remove_digits)\n",
    "        os.rename(entry,new_name)\n",
    "    print(list)\n",
    "rename_files()"
   ]
  },
  {
   "cell_type": "markdown",
   "metadata": {},
   "source": [
    "# Movie Project"
   ]
  },
  {
   "cell_type": "code",
   "execution_count": 1,
   "metadata": {
    "collapsed": false
   },
   "outputs": [],
   "source": [
    "class Square(object):\n",
    "    \n",
    "    import turtle\n",
    "    \n",
    "    def draw_square(self):\n",
    "        \n",
    "        brad = turtle.Turtle()\n",
    "        brad.shape(\"turtle\")\n",
    "        brad.color(\"yellow\")\n",
    "        brad.speed(2)\n",
    "        \n",
    "        brad.forward(100)\n",
    "        brad.right(90)\n",
    "        brad.forward(100)\n",
    "        brad.right(90)\n",
    "        brad.forward(100)\n",
    "        brad.right(90)\n",
    "        brad.forward(100)\n",
    "        brad.right(90)\n",
    "        \n",
    "    def draw_circle(self):\n",
    "        \n",
    "        angie = turtle.Turtle()\n",
    "        angie.shape(\"arrow\")\n",
    "        angie.color(\"blue\")\n",
    "        angie.circle(100)\n",
    "        \n",
    "    def draw_triangle(self):\n",
    "        \n",
    "        paul = turtle.Turtle()\n",
    "        paul.shape(\"turtle\")\n",
    "        paul.color(\"green\")\n",
    "        paul.circle(50)\n",
    "        \n",
    "    def draw_art(self):\n",
    "        window = turtle.Screen()\n",
    "        window.bgcolor(\"red\")\n",
    "        self.draw_square()\n",
    "        self.draw_circle()\n",
    "        self.draw_triangle()\n",
    "\n",
    "    "
   ]
  },
  {
   "cell_type": "code",
   "execution_count": 2,
   "metadata": {
    "collapsed": false
   },
   "outputs": [],
   "source": [
    "import turtle\n",
    "\n",
    "square = Square()\n",
    "square.draw_art()"
   ]
  },
  {
   "cell_type": "markdown",
   "metadata": {
    "collapsed": true
   },
   "source": [
    "## Rotating Turtle"
   ]
  },
  {
   "cell_type": "code",
   "execution_count": 2,
   "metadata": {
    "collapsed": false
   },
   "outputs": [],
   "source": [
    "import turtle\n",
    "\n",
    "def rotate_turtle():\n",
    "    \n",
    "    window = turtle.Screen()\n",
    "    window.bgcolor(\"red\")\n",
    "    \n",
    "    fred = turtle.Turtle()\n",
    "    fred.speed(10)\n",
    "    fred.shape(\"turtle\")\n",
    "    \n",
    "    for i in range (1,37):\n",
    "        for i in range (1,5):\n",
    "            fred.forward(100)\n",
    "            fred.right(90)\n",
    "        fred.right(10)\n",
    "        \n",
    "    window.exitonclick()\n",
    "rotate_turtle()"
   ]
  },
  {
   "cell_type": "markdown",
   "metadata": {},
   "source": [
    "# Text Message Project"
   ]
  },
  {
   "cell_type": "code",
   "execution_count": 9,
   "metadata": {
    "collapsed": false
   },
   "outputs": [],
   "source": [
    "from twilio.rest import TwilioRestClient\n",
    "\n",
    "# Find these values at https://twilio.com/user/account\n",
    "account_sid = \"AC35d5e9a39cba4260b4021e69db97945c\"\n",
    "auth_token = \"dcc9b3abcd4e901fe5751eac345aced2\"\n",
    "client = TwilioRestClient(account_sid, auth_token)\n",
    "\n",
    "message = client.messages.create(to=\"+8201031827385\", from_=\"+16502651722\",\n",
    "                                     body=\"Its Taylor, Im practicing python with twilio library... is this working? 한글도 되나...?\")"
   ]
  },
  {
   "cell_type": "markdown",
   "metadata": {},
   "source": [
    "# Profanity Filter Project"
   ]
  },
  {
   "cell_type": "code",
   "execution_count": null,
   "metadata": {
    "collapsed": true
   },
   "outputs": [],
   "source": []
  }
 ],
 "metadata": {
  "anaconda-cloud": {},
  "kernelspec": {
   "display_name": "Python [default]",
   "language": "python",
   "name": "python3"
  },
  "language_info": {
   "codemirror_mode": {
    "name": "ipython",
    "version": 3
   },
   "file_extension": ".py",
   "mimetype": "text/x-python",
   "name": "python",
   "nbconvert_exporter": "python",
   "pygments_lexer": "ipython3",
   "version": "3.5.2"
  }
 },
 "nbformat": 4,
 "nbformat_minor": 1
}
